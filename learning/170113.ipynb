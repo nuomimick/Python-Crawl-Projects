{
 "cells": [
  {
   "cell_type": "code",
   "execution_count": 1,
   "metadata": {
    "collapsed": true
   },
   "outputs": [],
   "source": [
    "import pandas as pd\n",
    "import cx_Oracle\n",
    "import os"
   ]
  },
  {
   "cell_type": "code",
   "execution_count": null,
   "metadata": {
    "collapsed": false
   },
   "outputs": [],
   "source": [
    "def get_fntxt(path):\n",
    "    '''\n",
    "    获取路径下面的所有file中的visual_id\n",
    "    path:文件夹路径\n",
    "    '''\n",
    "    ct_dc = {}\n",
    "    for rtpath,dirs,files in os.walk(path):\n",
    "        for f in files:#f是文件名\n",
    "            if f.endswith('.txt'):\n",
    "                with open(os.path.join(rtpath,f),'r') as fl:\n",
    "                    ct_dc.setdefault(f,[line[:-1] for line in fl])\n",
    "    return ct_dc\n",
    "\n",
    "aries = cx_Oracle.connect('','','CD.ARIES')\n",
    "dirlist = ['dbscan_center_result']#算法文件夹列表\n",
    "rootpath = r'C:\\Users\\ruihuanz\\Documents\\02-12-result-wo-images'\n",
    "for dr in dirlist:\n",
    "    path = os.path.join(rootpath,dr)\n",
    "    ct_dc = get_fntxt(path)\n",
    "    print ct_dc\n",
    "    df_all = []\n",
    "    for f,ct in ct_dc.iteritems():#f文件名，ct是visual_id列表\n",
    "        if ct:\n",
    "            ct = ','.join([\"'{}'\".format(i) for i in ct])\n",
    "            sql = \"\"\" select dt.bi_board_id,ts.chamber_id,dt.SOCKET_ID,di.visual_id,ts.lot,dt.device_end_date_time\n",
    "            from a_device_item di join a_device_testing dt on di.di_id = dt.di_id\n",
    "            join a_testing_session ts on ts.lao_start_ww = dt.lao_start_ww and ts.ts_id = dt.ts_id\n",
    "            where ts.operation = '7460' and visual_id in ({})\"\"\".format(ct)\n",
    "            df = pd.read_sql(sql,aries)\n",
    "            df = df.groupby(['BI_BOARD_ID','CHAMBER_ID','SOCKET_ID']).filter(lambda x:len(x) >= 2)\n",
    "            df_all.append(df)\n",
    "\n",
    "    df_all = pd.concat(df_all,ignore_index=True)\n",
    "    df_all.to_csv(dr+'.csv',index=False)\n",
    "    print '{} lot 数量 {}'.format(dr,len(df_all.drop_duplicates(subset='LOT')))#每个算法下的lot数"
   ]
  },
  {
   "cell_type": "code",
   "execution_count": null,
   "metadata": {
    "collapsed": true
   },
   "outputs": [],
   "source": []
  }
 ],
 "metadata": {
  "anaconda-cloud": {},
  "kernelspec": {
   "display_name": "Python [default]",
   "language": "python",
   "name": "python2"
  },
  "language_info": {
   "codemirror_mode": {
    "name": "ipython",
    "version": 2
   },
   "file_extension": ".py",
   "mimetype": "text/x-python",
   "name": "python",
   "nbconvert_exporter": "python",
   "pygments_lexer": "ipython2",
   "version": "2.7.12"
  }
 },
 "nbformat": 4,
 "nbformat_minor": 1
}
